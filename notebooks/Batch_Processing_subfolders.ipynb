{
 "cells": [
  {
   "cell_type": "markdown",
   "id": "dbed45ab-af49-4be7-ace8-25abdcc5d81a",
   "metadata": {
    "tags": []
   },
   "source": [
    "## This is an example of batch processing with subfolder hierarchy\n",
    "Each subfolder in the path is a variable, that will be added as a separate column in the output table.\n",
    "In the input the choosen option for analysis can be specified. "
   ]
  },
  {
   "cell_type": "markdown",
   "id": "43e21782",
   "metadata": {},
   "source": [
    "## Add package to python path and import function (s)"
   ]
  },
  {
   "cell_type": "code",
   "execution_count": 1,
   "id": "2debe007",
   "metadata": {},
   "outputs": [],
   "source": [
    "import sys\n",
    "import os\n",
    "\n",
    "# Manually set the parent directory path\n",
    "notebook_dir = os.getcwd()  # This gets the current working directory of the notebook\n",
    "parent_dir = os.path.abspath(os.path.join(notebook_dir, '..'))\n",
    "\n",
    "# Add the parent directory to the system path\n",
    "sys.path.insert(0, parent_dir)\n",
    "\n",
    "#import an example function from package \n",
    "from flim_processing import analyze_single_fitted_channel,generate_small_report_fig,analyze_single_fastflim_channel,in_folder_loop"
   ]
  },
  {
   "cell_type": "markdown",
   "id": "4427cd5b-d875-4e3c-99fc-ab40cd4e175a",
   "metadata": {},
   "source": [
    "## Provide an absolut path to the highest hierarchy folder"
   ]
  },
  {
   "cell_type": "code",
   "execution_count": 3,
   "id": "a86d103f-57fc-48b9-87fc-0febacde2b8b",
   "metadata": {
    "tags": []
   },
   "outputs": [],
   "source": [
    "from pathlib import Path\n",
    "global_path=Path(r\"G:\\SP8_FLIM\\0_Workflow_OPTIM\\5HT\")"
   ]
  },
  {
   "cell_type": "code",
   "execution_count": 7,
   "id": "048d27de-08ff-4f2a-a0b6-1c311850e4e1",
   "metadata": {
    "tags": []
   },
   "outputs": [],
   "source": [
    "# specifies exact function that will be used in analysis \n",
    "selected_analysis_function = analyze_single_fitted_channel"
   ]
  },
  {
   "cell_type": "code",
   "execution_count": 4,
   "id": "33d170c7-a27f-4ea1-93b2-72b9bb68b997",
   "metadata": {
    "tags": []
   },
   "outputs": [
    {
     "name": "stdout",
     "output_type": "stream",
     "text": [
      "Processing date folder: 2023-02-13\n",
      "G:\\SP8_FLIM\\0_Workflow_OPTIM\\5HT\\2023-02-13\\5HT_0\n",
      "5HT_0\n",
      "\n",
      "\n",
      "G:\\SP8_FLIM\\0_Workflow_OPTIM\\5HT\\2023-02-13\\5HT_0\\cl1_pcDNA_NT\n",
      "cl1_pcDNA_NT\n",
      "\n",
      "\n"
     ]
    },
    {
     "name": "stderr",
     "output_type": "stream",
     "text": [
      "C:\\Users\\med\\AppData\\Local\\Temp\\ipykernel_6252\\562123178.py:81: UserWarning: G:\\SP8_FLIM\\0_Workflow_OPTIM\\5HT\\2023-02-13\\5HT_0\\cl1_pcDNA_NT\\Output_images\\param_map_2.tif is a low contrast image\n",
      "  imsave(outputimage_folder_path / image_name, multichannel_image[...,-1])\n",
      "C:\\Users\\med\\AppData\\Local\\Temp\\ipykernel_6252\\562123178.py:81: UserWarning: G:\\SP8_FLIM\\0_Workflow_OPTIM\\5HT\\2023-02-13\\5HT_0\\cl1_pcDNA_NT\\Output_images\\param_map_4.tif is a low contrast image\n",
      "  imsave(outputimage_folder_path / image_name, multichannel_image[...,-1])\n",
      "C:\\Users\\med\\AppData\\Local\\Temp\\ipykernel_6252\\562123178.py:81: UserWarning: G:\\SP8_FLIM\\0_Workflow_OPTIM\\5HT\\2023-02-13\\5HT_0\\cl1_pcDNA_NT\\Output_images\\param_map_5.tif is a low contrast image\n",
      "  imsave(outputimage_folder_path / image_name, multichannel_image[...,-1])\n"
     ]
    },
    {
     "name": "stdout",
     "output_type": "stream",
     "text": [
      "G:\\SP8_FLIM\\0_Workflow_OPTIM\\5HT\\2023-02-13\\5HT_0\\cl1_VMAT_NT\n",
      "cl1_VMAT_NT\n",
      "\n",
      "\n"
     ]
    },
    {
     "name": "stderr",
     "output_type": "stream",
     "text": [
      "C:\\Users\\med\\AppData\\Local\\Temp\\ipykernel_6252\\562123178.py:81: UserWarning: G:\\SP8_FLIM\\0_Workflow_OPTIM\\5HT\\2023-02-13\\5HT_0\\cl1_VMAT_NT\\Output_images\\param_map_vmat-0mm-1.tif is a low contrast image\n",
      "  imsave(outputimage_folder_path / image_name, multichannel_image[...,-1])\n",
      "C:\\Users\\med\\AppData\\Local\\Temp\\ipykernel_6252\\562123178.py:81: UserWarning: G:\\SP8_FLIM\\0_Workflow_OPTIM\\5HT\\2023-02-13\\5HT_0\\cl1_VMAT_NT\\Output_images\\param_map_vmat-0mm-4.tif is a low contrast image\n",
      "  imsave(outputimage_folder_path / image_name, multichannel_image[...,-1])\n"
     ]
    },
    {
     "name": "stdout",
     "output_type": "stream",
     "text": [
      "G:\\SP8_FLIM\\0_Workflow_OPTIM\\5HT\\2023-02-13\\5HT_500\n",
      "5HT_500\n",
      "\n",
      "\n",
      "G:\\SP8_FLIM\\0_Workflow_OPTIM\\5HT\\2023-02-13\\5HT_500\\cl1_VMAT_500\n",
      "cl1_VMAT_500\n",
      "\n",
      "\n"
     ]
    },
    {
     "name": "stderr",
     "output_type": "stream",
     "text": [
      "C:\\Users\\med\\AppData\\Local\\Temp\\ipykernel_6252\\562123178.py:81: UserWarning: G:\\SP8_FLIM\\0_Workflow_OPTIM\\5HT\\2023-02-13\\5HT_500\\cl1_VMAT_500\\Output_images\\param_map_vmat-05mm-1.tif is a low contrast image\n",
      "  imsave(outputimage_folder_path / image_name, multichannel_image[...,-1])\n",
      "C:\\Users\\med\\AppData\\Local\\Temp\\ipykernel_6252\\562123178.py:81: UserWarning: G:\\SP8_FLIM\\0_Workflow_OPTIM\\5HT\\2023-02-13\\5HT_500\\cl1_VMAT_500\\Output_images\\param_map_vmat-05mm-3.tif is a low contrast image\n",
      "  imsave(outputimage_folder_path / image_name, multichannel_image[...,-1])\n"
     ]
    },
    {
     "name": "stdout",
     "output_type": "stream",
     "text": [
      "G:\\SP8_FLIM\\0_Workflow_OPTIM\\5HT\\2023-02-13\\5HT_500\\cl1_pcDNA_500\n",
      "cl1_pcDNA_500\n",
      "\n",
      "\n"
     ]
    },
    {
     "name": "stderr",
     "output_type": "stream",
     "text": [
      "C:\\Users\\med\\AppData\\Local\\Temp\\ipykernel_6252\\562123178.py:81: UserWarning: G:\\SP8_FLIM\\0_Workflow_OPTIM\\5HT\\2023-02-13\\5HT_500\\cl1_pcDNA_500\\Output_images\\param_map_pcdna-05mm-1.tif is a low contrast image\n",
      "  imsave(outputimage_folder_path / image_name, multichannel_image[...,-1])\n",
      "C:\\Users\\med\\AppData\\Local\\Temp\\ipykernel_6252\\562123178.py:81: UserWarning: G:\\SP8_FLIM\\0_Workflow_OPTIM\\5HT\\2023-02-13\\5HT_500\\cl1_pcDNA_500\\Output_images\\param_map_pcdna-05mm-2.tif is a low contrast image\n",
      "  imsave(outputimage_folder_path / image_name, multichannel_image[...,-1])\n",
      "C:\\Users\\med\\AppData\\Local\\Temp\\ipykernel_6252\\562123178.py:81: UserWarning: G:\\SP8_FLIM\\0_Workflow_OPTIM\\5HT\\2023-02-13\\5HT_500\\cl1_pcDNA_500\\Output_images\\param_map_pcdna-05mm-3.tif is a low contrast image\n",
      "  imsave(outputimage_folder_path / image_name, multichannel_image[...,-1])\n",
      "C:\\Users\\med\\AppData\\Local\\Temp\\ipykernel_6252\\562123178.py:81: UserWarning: G:\\SP8_FLIM\\0_Workflow_OPTIM\\5HT\\2023-02-13\\5HT_500\\cl1_pcDNA_500\\Output_images\\param_map_pcdna-05mm-5.tif is a low contrast image\n",
      "  imsave(outputimage_folder_path / image_name, multichannel_image[...,-1])\n"
     ]
    },
    {
     "name": "stdout",
     "output_type": "stream",
     "text": [
      "G:\\SP8_FLIM\\0_Workflow_OPTIM\\5HT\\2023-02-13\\5HT_2000\n",
      "5HT_2000\n",
      "\n",
      "\n",
      "G:\\SP8_FLIM\\0_Workflow_OPTIM\\5HT\\2023-02-13\\5HT_2000\\cl2_VMAT_2000\n",
      "cl2_VMAT_2000\n",
      "\n",
      "\n"
     ]
    },
    {
     "name": "stderr",
     "output_type": "stream",
     "text": [
      "C:\\Users\\med\\AppData\\Local\\Temp\\ipykernel_6252\\562123178.py:81: UserWarning: G:\\SP8_FLIM\\0_Workflow_OPTIM\\5HT\\2023-02-13\\5HT_2000\\cl2_VMAT_2000\\Output_images\\param_map_vmat-2mm-2.tif is a low contrast image\n",
      "  imsave(outputimage_folder_path / image_name, multichannel_image[...,-1])\n",
      "C:\\Users\\med\\AppData\\Local\\Temp\\ipykernel_6252\\562123178.py:81: UserWarning: G:\\SP8_FLIM\\0_Workflow_OPTIM\\5HT\\2023-02-13\\5HT_2000\\cl2_VMAT_2000\\Output_images\\param_map_vmat-2mm-3.tif is a low contrast image\n",
      "  imsave(outputimage_folder_path / image_name, multichannel_image[...,-1])\n",
      "C:\\Users\\med\\AppData\\Local\\Temp\\ipykernel_6252\\562123178.py:81: UserWarning: G:\\SP8_FLIM\\0_Workflow_OPTIM\\5HT\\2023-02-13\\5HT_2000\\cl2_VMAT_2000\\Output_images\\param_map_vmat-2mm-4.tif is a low contrast image\n",
      "  imsave(outputimage_folder_path / image_name, multichannel_image[...,-1])\n",
      "C:\\Users\\med\\AppData\\Local\\Temp\\ipykernel_6252\\562123178.py:81: UserWarning: G:\\SP8_FLIM\\0_Workflow_OPTIM\\5HT\\2023-02-13\\5HT_2000\\cl2_VMAT_2000\\Output_images\\param_map_vmat-2mm-5.tif is a low contrast image\n",
      "  imsave(outputimage_folder_path / image_name, multichannel_image[...,-1])\n"
     ]
    },
    {
     "name": "stdout",
     "output_type": "stream",
     "text": [
      "G:\\SP8_FLIM\\0_Workflow_OPTIM\\5HT\\2023-02-13\\5HT_2000\\cl1_pcDNA_2000\n",
      "cl1_pcDNA_2000\n",
      "\n",
      "\n"
     ]
    },
    {
     "name": "stderr",
     "output_type": "stream",
     "text": [
      "C:\\Users\\med\\AppData\\Local\\Temp\\ipykernel_6252\\562123178.py:81: UserWarning: G:\\SP8_FLIM\\0_Workflow_OPTIM\\5HT\\2023-02-13\\5HT_2000\\cl1_pcDNA_2000\\Output_images\\param_map_pcdna-2mm-2.tif is a low contrast image\n",
      "  imsave(outputimage_folder_path / image_name, multichannel_image[...,-1])\n",
      "C:\\Users\\med\\AppData\\Local\\Temp\\ipykernel_6252\\562123178.py:81: UserWarning: G:\\SP8_FLIM\\0_Workflow_OPTIM\\5HT\\2023-02-13\\5HT_2000\\cl1_pcDNA_2000\\Output_images\\param_map_pcdna-2mm-3.tif is a low contrast image\n",
      "  imsave(outputimage_folder_path / image_name, multichannel_image[...,-1])\n",
      "C:\\Users\\med\\AppData\\Local\\Temp\\ipykernel_6252\\562123178.py:81: UserWarning: G:\\SP8_FLIM\\0_Workflow_OPTIM\\5HT\\2023-02-13\\5HT_2000\\cl1_pcDNA_2000\\Output_images\\param_map_pcdna-2mm-4.tif is a low contrast image\n",
      "  imsave(outputimage_folder_path / image_name, multichannel_image[...,-1])\n"
     ]
    },
    {
     "name": "stdout",
     "output_type": "stream",
     "text": [
      "Processing date folder: 2023-02-07\n",
      "G:\\SP8_FLIM\\0_Workflow_OPTIM\\5HT\\2023-02-07\\5HT_0\n",
      "5HT_0\n",
      "\n",
      "\n",
      "G:\\SP8_FLIM\\0_Workflow_OPTIM\\5HT\\2023-02-07\\5HT_0\\cl2_VMAT_NT\n",
      "cl2_VMAT_NT\n",
      "\n",
      "\n"
     ]
    },
    {
     "name": "stderr",
     "output_type": "stream",
     "text": [
      "C:\\Users\\med\\AppData\\Local\\Temp\\ipykernel_6252\\562123178.py:81: UserWarning: G:\\SP8_FLIM\\0_Workflow_OPTIM\\5HT\\2023-02-07\\5HT_0\\cl2_VMAT_NT\\Output_images\\param_map_cl2-1.tif is a low contrast image\n",
      "  imsave(outputimage_folder_path / image_name, multichannel_image[...,-1])\n",
      "C:\\Users\\med\\AppData\\Local\\Temp\\ipykernel_6252\\562123178.py:81: UserWarning: G:\\SP8_FLIM\\0_Workflow_OPTIM\\5HT\\2023-02-07\\5HT_0\\cl2_VMAT_NT\\Output_images\\param_map_cl2-2.tif is a low contrast image\n",
      "  imsave(outputimage_folder_path / image_name, multichannel_image[...,-1])\n",
      "C:\\Users\\med\\AppData\\Local\\Temp\\ipykernel_6252\\562123178.py:81: UserWarning: G:\\SP8_FLIM\\0_Workflow_OPTIM\\5HT\\2023-02-07\\5HT_0\\cl2_VMAT_NT\\Output_images\\param_map_cl2-3.tif is a low contrast image\n",
      "  imsave(outputimage_folder_path / image_name, multichannel_image[...,-1])\n",
      "C:\\Users\\med\\AppData\\Local\\Temp\\ipykernel_6252\\562123178.py:81: UserWarning: G:\\SP8_FLIM\\0_Workflow_OPTIM\\5HT\\2023-02-07\\5HT_0\\cl2_VMAT_NT\\Output_images\\param_map_cl2-4.tif is a low contrast image\n",
      "  imsave(outputimage_folder_path / image_name, multichannel_image[...,-1])\n",
      "C:\\Users\\med\\AppData\\Local\\Temp\\ipykernel_6252\\562123178.py:81: UserWarning: G:\\SP8_FLIM\\0_Workflow_OPTIM\\5HT\\2023-02-07\\5HT_0\\cl2_VMAT_NT\\Output_images\\param_map_cl2-5.tif is a low contrast image\n",
      "  imsave(outputimage_folder_path / image_name, multichannel_image[...,-1])\n"
     ]
    },
    {
     "name": "stdout",
     "output_type": "stream",
     "text": [
      "G:\\SP8_FLIM\\0_Workflow_OPTIM\\5HT\\2023-02-07\\5HT_0\\cl1_VMAT_5HT_0\n",
      "cl1_VMAT_5HT_0\n",
      "\n",
      "\n"
     ]
    },
    {
     "name": "stderr",
     "output_type": "stream",
     "text": [
      "C:\\Users\\med\\AppData\\Local\\Temp\\ipykernel_6252\\562123178.py:81: UserWarning: G:\\SP8_FLIM\\0_Workflow_OPTIM\\5HT\\2023-02-07\\5HT_0\\cl1_VMAT_5HT_0\\Output_images\\param_map_cl1-1.tif is a low contrast image\n",
      "  imsave(outputimage_folder_path / image_name, multichannel_image[...,-1])\n",
      "C:\\Users\\med\\AppData\\Local\\Temp\\ipykernel_6252\\562123178.py:81: UserWarning: G:\\SP8_FLIM\\0_Workflow_OPTIM\\5HT\\2023-02-07\\5HT_0\\cl1_VMAT_5HT_0\\Output_images\\param_map_cl1-2.tif is a low contrast image\n",
      "  imsave(outputimage_folder_path / image_name, multichannel_image[...,-1])\n",
      "C:\\Users\\med\\AppData\\Local\\Temp\\ipykernel_6252\\562123178.py:81: UserWarning: G:\\SP8_FLIM\\0_Workflow_OPTIM\\5HT\\2023-02-07\\5HT_0\\cl1_VMAT_5HT_0\\Output_images\\param_map_cl1-3.tif is a low contrast image\n",
      "  imsave(outputimage_folder_path / image_name, multichannel_image[...,-1])\n",
      "C:\\Users\\med\\AppData\\Local\\Temp\\ipykernel_6252\\562123178.py:81: UserWarning: G:\\SP8_FLIM\\0_Workflow_OPTIM\\5HT\\2023-02-07\\5HT_0\\cl1_VMAT_5HT_0\\Output_images\\param_map_cl1-4.tif is a low contrast image\n",
      "  imsave(outputimage_folder_path / image_name, multichannel_image[...,-1])\n"
     ]
    },
    {
     "name": "stdout",
     "output_type": "stream",
     "text": [
      "G:\\SP8_FLIM\\0_Workflow_OPTIM\\5HT\\2023-02-07\\5HT_500\n",
      "5HT_500\n",
      "\n",
      "\n",
      "G:\\SP8_FLIM\\0_Workflow_OPTIM\\5HT\\2023-02-07\\5HT_500\\cl1_VMAT_500\n",
      "cl1_VMAT_500\n",
      "\n",
      "\n"
     ]
    },
    {
     "name": "stderr",
     "output_type": "stream",
     "text": [
      "C:\\Users\\med\\AppData\\Local\\Temp\\ipykernel_6252\\562123178.py:81: UserWarning: G:\\SP8_FLIM\\0_Workflow_OPTIM\\5HT\\2023-02-07\\5HT_500\\cl1_VMAT_500\\Output_images\\param_map_cl1-5ht-1.tif is a low contrast image\n",
      "  imsave(outputimage_folder_path / image_name, multichannel_image[...,-1])\n",
      "C:\\Users\\med\\AppData\\Local\\Temp\\ipykernel_6252\\562123178.py:81: UserWarning: G:\\SP8_FLIM\\0_Workflow_OPTIM\\5HT\\2023-02-07\\5HT_500\\cl1_VMAT_500\\Output_images\\param_map_cl1-5ht-4.tif is a low contrast image\n",
      "  imsave(outputimage_folder_path / image_name, multichannel_image[...,-1])\n",
      "C:\\Users\\med\\AppData\\Local\\Temp\\ipykernel_6252\\562123178.py:81: UserWarning: G:\\SP8_FLIM\\0_Workflow_OPTIM\\5HT\\2023-02-07\\5HT_500\\cl1_VMAT_500\\Output_images\\param_map_cl1-5ht-5.tif is a low contrast image\n",
      "  imsave(outputimage_folder_path / image_name, multichannel_image[...,-1])\n"
     ]
    },
    {
     "name": "stdout",
     "output_type": "stream",
     "text": [
      "G:\\SP8_FLIM\\0_Workflow_OPTIM\\5HT\\2023-02-07\\5HT_500\\cl2_VMAT_500\n",
      "cl2_VMAT_500\n",
      "\n",
      "\n"
     ]
    },
    {
     "name": "stderr",
     "output_type": "stream",
     "text": [
      "C:\\Users\\med\\AppData\\Local\\Temp\\ipykernel_6252\\562123178.py:81: UserWarning: G:\\SP8_FLIM\\0_Workflow_OPTIM\\5HT\\2023-02-07\\5HT_500\\cl2_VMAT_500\\Output_images\\param_map_cl2-5ht-1.tif is a low contrast image\n",
      "  imsave(outputimage_folder_path / image_name, multichannel_image[...,-1])\n",
      "C:\\Users\\med\\AppData\\Local\\Temp\\ipykernel_6252\\562123178.py:81: UserWarning: G:\\SP8_FLIM\\0_Workflow_OPTIM\\5HT\\2023-02-07\\5HT_500\\cl2_VMAT_500\\Output_images\\param_map_cl2-5ht-2.tif is a low contrast image\n",
      "  imsave(outputimage_folder_path / image_name, multichannel_image[...,-1])\n",
      "C:\\Users\\med\\AppData\\Local\\Temp\\ipykernel_6252\\562123178.py:81: UserWarning: G:\\SP8_FLIM\\0_Workflow_OPTIM\\5HT\\2023-02-07\\5HT_500\\cl2_VMAT_500\\Output_images\\param_map_cl2-5ht-3.tif is a low contrast image\n",
      "  imsave(outputimage_folder_path / image_name, multichannel_image[...,-1])\n"
     ]
    },
    {
     "name": "stdout",
     "output_type": "stream",
     "text": [
      "Saving master table...\n",
      "Saving table of reports...\n",
      "Processing complete!\n"
     ]
    },
    {
     "name": "stderr",
     "output_type": "stream",
     "text": [
      "C:\\Users\\med\\AppData\\Local\\Temp\\ipykernel_6252\\562123178.py:81: UserWarning: G:\\SP8_FLIM\\0_Workflow_OPTIM\\5HT\\2023-02-07\\5HT_500\\cl2_VMAT_500\\Output_images\\param_map_cl2-5ht-4.tif is a low contrast image\n",
      "  imsave(outputimage_folder_path / image_name, multichannel_image[...,-1])\n"
     ]
    }
   ],
   "source": [
    "import pandas as pd\n",
    "from pathlib import Path\n",
    "import natsort\n",
    "from skimage.io import imsave\n",
    "\n",
    "# Create the folder where all the outputs will be collected \n",
    "output_folder_path = global_path / 'Outputs'\n",
    "output_folder_path.mkdir(exist_ok=True)\n",
    "\n",
    "# Initialize master DataFrames and other data structures outside the loop\n",
    "master_results = pd.DataFrame([])\n",
    "master_reports = pd.DataFrame([])\n",
    "\n",
    "# Iterate over all folders in the global_path directory\n",
    "for day_path in global_path.iterdir():\n",
    "    if day_path.is_dir() and day_path.stem != 'Outputs':\n",
    "        \n",
    "        date = day_path.stem\n",
    "        print(f\"Processing date folder: {date}\")\n",
    "        \n",
    "        result_per_date = pd.DataFrame([])\n",
    "\n",
    "        # treatment level\n",
    "        for treatment_path in day_path.iterdir():\n",
    "            if treatment_path.is_dir(): \n",
    "                print(treatment_path)\n",
    "                treatment = treatment_path.stem\n",
    "                print(treatment_path.stem)\n",
    "                print('\\n')\n",
    "\n",
    "                for clone_path in treatment_path.iterdir():\n",
    "                    if clone_path.is_dir():  # Check if clone_path is a directory\n",
    "                        \n",
    "                        outputimage_folder_path = clone_path / 'Output_images'\n",
    "                        outputimage_folder_path.mkdir(exist_ok=True)\n",
    "                        \n",
    "                        print(clone_path)\n",
    "                        clone = clone_path.stem\n",
    "                        print(clone_path.stem)\n",
    "                        print('\\n')\n",
    "\n",
    "                        # local DataFrame to store data for the current folder\n",
    "                        result_per_folder = pd.DataFrame([])\n",
    "                        report_per_folder = pd.DataFrame([])\n",
    "\n",
    "                        # Here we build a paired_path nested list\n",
    "                        paired_path_list = []\n",
    "                        paired_paths = []\n",
    "\n",
    "                        # Create paired paths\n",
    "                        for file_path in natsort.natsorted(clone_path.iterdir()):\n",
    "                            if file_path.suffix == '.tif': \n",
    "                                paired_paths.append(file_path) \n",
    "                                if len(paired_paths) == 2:\n",
    "                                    paired_path_list.append(paired_paths)\n",
    "                                    paired_paths = []\n",
    "\n",
    "                                    \n",
    "                        # Process each pair of files in the current folder\n",
    "                        for paired_path in paired_path_list:\n",
    "                            result_per_image, report_per_image, multichannel_image = selected_analysis_function(paired_path[1], paired_path[0])\n",
    "\n",
    "                            # Add identification to the result table (image level)\n",
    "                            result_per_image['File Name'] = paired_path[1].stem\n",
    "                            report_per_image['File Name'] = paired_path[1].stem\n",
    "\n",
    "\n",
    "                            #start creating report images \n",
    "                            # Construct the desired identification string for images \n",
    "                            identification = f\"{date}_{paired_path[1].parent.name}_{paired_path[1].stem}\"\n",
    "\n",
    "                            #construct report images and save them \n",
    "                            #small_report_fig = generate_small_report_fig(multichannel_image,identification,output_folder_path)\n",
    "\n",
    "                            # Concatenate the filtered results to the local table\n",
    "                            result_per_folder = pd.concat([result_per_folder, result_per_image])\n",
    "                            report_per_folder = pd.concat([report_per_folder, report_per_image]) \n",
    "                            \n",
    "                            #output images. only 1 chanel from param image (last chanel) \n",
    "                            image_name='param_map_' +paired_path[1].stem+'.tif'\n",
    "                            imsave(outputimage_folder_path / image_name, multichannel_image[...,-1])\n",
    "              \n",
    "\n",
    "                        result_per_folder['Treatment'] = treatment\n",
    "                        result_per_folder['Clone'] = clone\n",
    "                        result_per_folder['Date'] = date\n",
    "                        result_per_folder['selected_analysis'] =selected_analysis_function.__name__\n",
    "\n",
    "                        report_per_folder['Treatment'] = treatment\n",
    "                        report_per_folder['Clone'] = clone\n",
    "                        report_per_folder['Date'] = date\n",
    "                        report_per_folder['selected_analysis'] =selected_analysis_function.__name__\n",
    "                        \n",
    "                        #optional troubleshooting savinf per specific treatment \n",
    "                        #report_per_folder.to_csv(output_folder_path / f\"{date}_{clone}_{treatment}.csv\")\n",
    "                        # Concatenate the local table to the master DataFrame\n",
    "                        master_results = pd.concat([master_results, result_per_folder])\n",
    "                        master_reports = pd.concat([master_reports, report_per_folder])\n",
    "\n",
    "\n",
    "print(\"Saving master table...\")\n",
    "# Save the master DataFrame as a CSV file\n",
    "master_results.to_csv(output_folder_path / \"master_table.csv\")\n",
    "\n",
    "print(\"Saving table of reports...\")\n",
    "# Save the full table of stat reports per each image in the tree folders\n",
    "master_reports.to_csv(output_folder_path / \"master_reports.csv\")\n",
    "\n",
    "print(\"Processing complete!\")\n"
   ]
  },
  {
   "cell_type": "code",
   "execution_count": null,
   "id": "07a41372-cf6f-4735-8839-b6f3fa6e8df4",
   "metadata": {},
   "outputs": [],
   "source": []
  }
 ],
 "metadata": {
  "kernelspec": {
   "display_name": "Python 3 (ipykernel)",
   "language": "python",
   "name": "python3"
  },
  "language_info": {
   "codemirror_mode": {
    "name": "ipython",
    "version": 3
   },
   "file_extension": ".py",
   "mimetype": "text/x-python",
   "name": "python",
   "nbconvert_exporter": "python",
   "pygments_lexer": "ipython3",
   "version": "3.9.18"
  }
 },
 "nbformat": 4,
 "nbformat_minor": 5
}
