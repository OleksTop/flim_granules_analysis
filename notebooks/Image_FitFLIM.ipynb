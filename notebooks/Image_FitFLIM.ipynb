{
 "cells": [
  {
   "cell_type": "markdown",
   "id": "b2b223aa",
   "metadata": {},
   "source": [
    "## Add package to python path and import function (s)"
   ]
  },
  {
   "cell_type": "code",
   "execution_count": 1,
   "id": "1e169c55",
   "metadata": {},
   "outputs": [],
   "source": [
    "import sys\n",
    "import os\n",
    "\n",
    "# Manually set the parent directory path\n",
    "notebook_dir = os.getcwd()  # This gets the current working directory of the notebook\n",
    "parent_dir = os.path.abspath(os.path.join(notebook_dir, '..'))\n",
    "\n",
    "# Add the parent directory to the system path\n",
    "sys.path.insert(0, parent_dir)\n",
    "\n",
    "#import an example function from package \n",
    "from flim_processing import analyze_single_fitted_channel,generate_small_report_fig"
   ]
  },
  {
   "cell_type": "markdown",
   "id": "6dc823f3-3eb7-41c6-8121-3752e9d07f19",
   "metadata": {},
   "source": [
    "## Upload fitted and intensity image from path "
   ]
  },
  {
   "cell_type": "code",
   "execution_count": 2,
   "id": "9d42d3fc-ba1a-4fb5-95ba-1fe0f48f0108",
   "metadata": {
    "tags": []
   },
   "outputs": [],
   "source": [
    "from pathlib import Path\n",
    "fit_data_image = Path(r\"G:\\SP8_FLIM\\0_Workflow_OPTIM\\5HT\\2023-02-07\\5HT_0\\cl1_VMAT_5HT_0\\cl1-1-f.tif\")\n",
    "count_data_image =Path(r\"G:\\SP8_FLIM\\0_Workflow_OPTIM\\5HT\\2023-02-07\\5HT_0\\cl1_VMAT_5HT_0\\cl1-1.tif\")\n"
   ]
  },
  {
   "cell_type": "markdown",
   "id": "aba3b2e6-e111-4753-be7e-f857c47a805b",
   "metadata": {
    "tags": []
   },
   "source": [
    "## Evaluate Mean Lifetimes from Segmented Objects (Granules)\n",
    "Functionality Overview:\n",
    "This function analyzes segmented objects (granules) to evaluate mean lifetimes. It generates detailed tables containing results for each individual object and summary report tables for each analyzed image. Filtering options are available to modify the data as required."
   ]
  },
  {
   "cell_type": "code",
   "execution_count": 3,
   "id": "34ffe867-6d09-410b-94e5-9e77cc3883f7",
   "metadata": {
    "tags": []
   },
   "outputs": [
    {
     "data": {
      "text/html": [
       "<div>\n",
       "<style scoped>\n",
       "    .dataframe tbody tr th:only-of-type {\n",
       "        vertical-align: middle;\n",
       "    }\n",
       "\n",
       "    .dataframe tbody tr th {\n",
       "        vertical-align: top;\n",
       "    }\n",
       "\n",
       "    .dataframe thead th {\n",
       "        text-align: right;\n",
       "    }\n",
       "</style>\n",
       "<table border=\"1\" class=\"dataframe\">\n",
       "  <thead>\n",
       "    <tr style=\"text-align: right;\">\n",
       "      <th></th>\n",
       "      <th>Label</th>\n",
       "      <th>Area</th>\n",
       "      <th>intensity_mean_fluor</th>\n",
       "      <th>mean_chi2</th>\n",
       "      <th>mean_tau</th>\n",
       "      <th>min_fluor</th>\n",
       "      <th>min_chi2</th>\n",
       "      <th>min_tau</th>\n",
       "      <th>STD_fluor</th>\n",
       "      <th>STD_chi2</th>\n",
       "      <th>STD_tau</th>\n",
       "    </tr>\n",
       "  </thead>\n",
       "  <tbody>\n",
       "    <tr>\n",
       "      <th>19</th>\n",
       "      <td>20</td>\n",
       "      <td>360.0</td>\n",
       "      <td>403.288889</td>\n",
       "      <td>105.091667</td>\n",
       "      <td>979.619444</td>\n",
       "      <td>209.0</td>\n",
       "      <td>62.0</td>\n",
       "      <td>428.0</td>\n",
       "      <td>60.955538</td>\n",
       "      <td>13.959463</td>\n",
       "      <td>231.685484</td>\n",
       "    </tr>\n",
       "    <tr>\n",
       "      <th>22</th>\n",
       "      <td>23</td>\n",
       "      <td>71.0</td>\n",
       "      <td>302.591549</td>\n",
       "      <td>95.000000</td>\n",
       "      <td>1043.563380</td>\n",
       "      <td>273.0</td>\n",
       "      <td>60.0</td>\n",
       "      <td>585.0</td>\n",
       "      <td>23.161757</td>\n",
       "      <td>12.877538</td>\n",
       "      <td>281.714106</td>\n",
       "    </tr>\n",
       "    <tr>\n",
       "      <th>29</th>\n",
       "      <td>30</td>\n",
       "      <td>107.0</td>\n",
       "      <td>397.775701</td>\n",
       "      <td>105.355140</td>\n",
       "      <td>1009.196262</td>\n",
       "      <td>367.0</td>\n",
       "      <td>75.0</td>\n",
       "      <td>499.0</td>\n",
       "      <td>12.278930</td>\n",
       "      <td>13.545529</td>\n",
       "      <td>260.598787</td>\n",
       "    </tr>\n",
       "    <tr>\n",
       "      <th>31</th>\n",
       "      <td>32</td>\n",
       "      <td>143.0</td>\n",
       "      <td>379.986014</td>\n",
       "      <td>102.755245</td>\n",
       "      <td>1060.517483</td>\n",
       "      <td>329.0</td>\n",
       "      <td>73.0</td>\n",
       "      <td>584.0</td>\n",
       "      <td>16.771599</td>\n",
       "      <td>11.368720</td>\n",
       "      <td>241.051045</td>\n",
       "    </tr>\n",
       "    <tr>\n",
       "      <th>34</th>\n",
       "      <td>35</td>\n",
       "      <td>55.0</td>\n",
       "      <td>305.436364</td>\n",
       "      <td>97.727273</td>\n",
       "      <td>1166.672727</td>\n",
       "      <td>266.0</td>\n",
       "      <td>72.0</td>\n",
       "      <td>682.0</td>\n",
       "      <td>15.346618</td>\n",
       "      <td>11.404074</td>\n",
       "      <td>305.085803</td>\n",
       "    </tr>\n",
       "    <tr>\n",
       "      <th>35</th>\n",
       "      <td>36</td>\n",
       "      <td>109.0</td>\n",
       "      <td>325.871560</td>\n",
       "      <td>98.458716</td>\n",
       "      <td>1079.724771</td>\n",
       "      <td>263.0</td>\n",
       "      <td>72.0</td>\n",
       "      <td>529.0</td>\n",
       "      <td>19.773071</td>\n",
       "      <td>11.098006</td>\n",
       "      <td>257.863981</td>\n",
       "    </tr>\n",
       "    <tr>\n",
       "      <th>43</th>\n",
       "      <td>44</td>\n",
       "      <td>131.0</td>\n",
       "      <td>357.977099</td>\n",
       "      <td>102.702290</td>\n",
       "      <td>992.908397</td>\n",
       "      <td>260.0</td>\n",
       "      <td>70.0</td>\n",
       "      <td>537.0</td>\n",
       "      <td>28.325390</td>\n",
       "      <td>12.077166</td>\n",
       "      <td>262.839528</td>\n",
       "    </tr>\n",
       "    <tr>\n",
       "      <th>46</th>\n",
       "      <td>47</td>\n",
       "      <td>50.0</td>\n",
       "      <td>300.720000</td>\n",
       "      <td>97.340000</td>\n",
       "      <td>1066.400000</td>\n",
       "      <td>114.0</td>\n",
       "      <td>64.0</td>\n",
       "      <td>641.0</td>\n",
       "      <td>52.215339</td>\n",
       "      <td>13.624405</td>\n",
       "      <td>284.554951</td>\n",
       "    </tr>\n",
       "    <tr>\n",
       "      <th>50</th>\n",
       "      <td>51</td>\n",
       "      <td>212.0</td>\n",
       "      <td>312.613208</td>\n",
       "      <td>99.165094</td>\n",
       "      <td>1060.834906</td>\n",
       "      <td>232.0</td>\n",
       "      <td>67.0</td>\n",
       "      <td>478.0</td>\n",
       "      <td>33.133398</td>\n",
       "      <td>12.709605</td>\n",
       "      <td>288.161439</td>\n",
       "    </tr>\n",
       "    <tr>\n",
       "      <th>60</th>\n",
       "      <td>61</td>\n",
       "      <td>158.0</td>\n",
       "      <td>315.360759</td>\n",
       "      <td>98.632911</td>\n",
       "      <td>1069.443038</td>\n",
       "      <td>222.0</td>\n",
       "      <td>73.0</td>\n",
       "      <td>515.0</td>\n",
       "      <td>21.503081</td>\n",
       "      <td>12.418522</td>\n",
       "      <td>280.016150</td>\n",
       "    </tr>\n",
       "  </tbody>\n",
       "</table>\n",
       "</div>"
      ],
      "text/plain": [
       "    Label   Area  intensity_mean_fluor   mean_chi2     mean_tau  min_fluor  \\\n",
       "19     20  360.0            403.288889  105.091667   979.619444      209.0   \n",
       "22     23   71.0            302.591549   95.000000  1043.563380      273.0   \n",
       "29     30  107.0            397.775701  105.355140  1009.196262      367.0   \n",
       "31     32  143.0            379.986014  102.755245  1060.517483      329.0   \n",
       "34     35   55.0            305.436364   97.727273  1166.672727      266.0   \n",
       "35     36  109.0            325.871560   98.458716  1079.724771      263.0   \n",
       "43     44  131.0            357.977099  102.702290   992.908397      260.0   \n",
       "46     47   50.0            300.720000   97.340000  1066.400000      114.0   \n",
       "50     51  212.0            312.613208   99.165094  1060.834906      232.0   \n",
       "60     61  158.0            315.360759   98.632911  1069.443038      222.0   \n",
       "\n",
       "    min_chi2  min_tau  STD_fluor   STD_chi2     STD_tau  \n",
       "19      62.0    428.0  60.955538  13.959463  231.685484  \n",
       "22      60.0    585.0  23.161757  12.877538  281.714106  \n",
       "29      75.0    499.0  12.278930  13.545529  260.598787  \n",
       "31      73.0    584.0  16.771599  11.368720  241.051045  \n",
       "34      72.0    682.0  15.346618  11.404074  305.085803  \n",
       "35      72.0    529.0  19.773071  11.098006  257.863981  \n",
       "43      70.0    537.0  28.325390  12.077166  262.839528  \n",
       "46      64.0    641.0  52.215339  13.624405  284.554951  \n",
       "50      67.0    478.0  33.133398  12.709605  288.161439  \n",
       "60      73.0    515.0  21.503081  12.418522  280.016150  "
      ]
     },
     "execution_count": 3,
     "metadata": {},
     "output_type": "execute_result"
    }
   ],
   "source": [
    "result_table,report_table,report_multichannel_image = analyze_single_fitted_channel(count_data_image, fit_data_image)\n",
    "result_table"
   ]
  },
  {
   "cell_type": "markdown",
   "id": "d3b0a9cd-82b2-417e-a396-92b355673c3f",
   "metadata": {},
   "source": [
    "##  Generate report images to evaluate analysis \n",
    "Use a function from module which generates and saves images displaing the input and result from analisys "
   ]
  },
  {
   "cell_type": "code",
   "execution_count": 5,
   "id": "7094ff4d-0928-4162-b20c-16e34eedd840",
   "metadata": {
    "tags": []
   },
   "outputs": [],
   "source": [
    "name='random_image_name'\n",
    "generate_small_report_fig(report_multichannel_image,name)"
   ]
  },
  {
   "cell_type": "code",
   "execution_count": 6,
   "id": "a6242ec4-a8ab-43eb-ac99-d32b4bda2b02",
   "metadata": {
    "tags": []
   },
   "outputs": [
    {
     "name": "stderr",
     "output_type": "stream",
     "text": [
      "C:\\Users\\med\\mambaforge\\envs\\napari-flim-phasor-env\\lib\\site-packages\\skimage\\io\\_plugins\\matplotlib_plugin.py:149: UserWarning: Low image data range; displaying image with stretched contrast.\n",
      "  lo, hi, cmap = _get_display_range(image)\n",
      "C:\\Users\\med\\mambaforge\\envs\\napari-flim-phasor-env\\lib\\site-packages\\skimage\\io\\_plugins\\matplotlib_plugin.py:149: UserWarning: Float image out of standard range; displaying image with stretched contrast.\n",
      "  lo, hi, cmap = _get_display_range(image)\n"
     ]
    },
    {
     "data": {
      "text/plain": [
       "<matplotlib.image.AxesImage at 0x23bb22b1580>"
      ]
     },
     "execution_count": 6,
     "metadata": {},
     "output_type": "execute_result"
    },
    {
     "data": {
      "image/png": "[encoded data removed]",
      "text/plain": [
       "<Figure size 640x480 with 2 Axes>"
      ]
     },
     "metadata": {},
     "output_type": "display_data"
    }
   ],
   "source": [
    "#output images. only 1 chanel from param image (last chanel) \n",
    "#depnds where is the chnell stores in multi is 1st or the last axis \n",
    "from skimage.io import imsave\n",
    "from skimage.io import imshow\n",
    "\n",
    "image_name='param_map_' +count_data_image.stem+'.tif'\n",
    "\n",
    "# Save the images\n",
    "#output_image_dir = Path('output_images')\n",
    "#output_image_dir.mkdir(exist_ok=True)\n",
    "\n",
    "imshow(report_multichannel_image[...,-1])\n",
    "#imsave(output_image_dir / image_name, report_multichannel_image[...,-1])"
   ]
  },
  {
   "cell_type": "code",
   "execution_count": null,
   "id": "fef16d5c-3a26-435a-b7c4-814ee2e70887",
   "metadata": {},
   "outputs": [],
   "source": []
  }
 ],
 "metadata": {
  "kernelspec": {
   "display_name": "Python 3 (ipykernel)",
   "language": "python",
   "name": "python3"
  },
  "language_info": {
   "codemirror_mode": {
    "name": "ipython",
    "version": 3
   },
   "file_extension": ".py",
   "mimetype": "text/x-python",
   "name": "python",
   "nbconvert_exporter": "python",
   "pygments_lexer": "ipython3",
   "version": "3.9.18"
  }
 },
 "nbformat": 4,
 "nbformat_minor": 5
}
