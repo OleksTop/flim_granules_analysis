{
 "cells": [
  {
   "cell_type": "code",
   "execution_count": 11,
   "id": "ce6f43fc-8236-438b-aa3f-3ea3244021e3",
   "metadata": {
    "tags": []
   },
   "outputs": [],
   "source": [
    "import pandas as pd\n",
    "from pathlib import Path\n",
    "import natsort\n",
    "from skimage.io import imsave\n",
    "from FLIM_functions import analyze_single_fitted_channel,generate_small_report_fig,analyze_single_fastflim_channel"
   ]
  },
  {
   "cell_type": "code",
   "execution_count": 12,
   "id": "b3e01b85-6e58-4e77-a862-d87ae5d852f9",
   "metadata": {
    "tags": []
   },
   "outputs": [],
   "source": [
    "selected_analysis_function = analyze_single_fitted_channel"
   ]
  },
  {
   "cell_type": "code",
   "execution_count": 13,
   "id": "43443c13-31f9-4654-ba1a-ef102b263198",
   "metadata": {
    "tags": []
   },
   "outputs": [],
   "source": [
    "global_path=Path(r\"G:\\SP8_FLIM\\Treatments\\Aldometanib\\2024-02-02\\wt_Aldo_0\")"
   ]
  },
  {
   "cell_type": "code",
   "execution_count": 28,
   "id": "687066b3-349b-484d-a43c-06bc4fb4ea99",
   "metadata": {
    "tags": []
   },
   "outputs": [],
   "source": [
    "def in_folder_loop(global_path,selected_analysis_function):\n",
    "    import pandas as pd\n",
    "    from pathlib import Path\n",
    "    import natsort\n",
    "    from FLIM_functions import analyze_single_fitted_channel,generate_small_report_fig,analyze_single_fastflim_channel\n",
    "\n",
    "    result_per_folder = pd.DataFrame([])\n",
    "    report_per_folder = pd.DataFrame([])\n",
    "\n",
    "    # Here we build a paired_path nested list\n",
    "    paired_path_list = []\n",
    "    paired_paths = []\n",
    "\n",
    "    # Create paired paths\n",
    "    for file_path in natsort.natsorted(global_path.iterdir()):\n",
    "        if file_path.suffix == '.tif': \n",
    "            paired_paths.append(file_path) \n",
    "            if len(paired_paths) == 2:\n",
    "                paired_path_list.append(paired_paths)\n",
    "                paired_paths = []\n",
    "\n",
    "    # Process each pair of files in the current folder\n",
    "    for paired_path in paired_path_list:\n",
    "        result_per_image, report_per_image, multichannel_image = selected_analysis_function(paired_path[1], paired_path[0])\n",
    "\n",
    "        # Add identification to the result table (image level)\n",
    "        result_per_image['File Name'] = paired_path[1].stem\n",
    "        report_per_image['File Name'] = paired_path[1].stem\n",
    "\n",
    "\n",
    "        # Concatenate the filtered results to the local table\n",
    "        result_per_folder = pd.concat([result_per_folder, result_per_image])\n",
    "        report_per_folder = pd.concat([report_per_folder, report_per_image]) \n",
    "        \n",
    "    #start creating report images \n",
    "                # Construct the desired identification string for images \n",
    "                identification = f\"{date}_{paired_path[1].parent.name}_{paired_path[1].stem}\"\n",
    "\n",
    "                #construct report images and save them \n",
    "                #small_report_fig = generate_small_report_fig(multichannel_image,identification,output_folder_path)\n",
    "\n",
    "                #output images. only 1 chanel from param image (last chanel) \n",
    "\n",
    "                #image_name='param_map_' +paired_path[1].stem+'.tif'\n",
    "                #imsave(outputimage_folder_path / image_name, multichannel_image[...,-1])\n",
    "\n",
    "\n",
    "    return result_per_folder, report_per_folder\n"
   ]
  },
  {
   "cell_type": "code",
   "execution_count": 29,
   "id": "a7dce52b-77e5-4012-b1da-4751d3fdb73b",
   "metadata": {
    "tags": []
   },
   "outputs": [],
   "source": [
    "result_per_folder,report_per_folder=in_folder_loop(global_path,selected_analysis_function)\n",
    "result_per_folder.to_csv(\"result_per_folder.csv\")\n",
    "report_per_folder.to_csv(\"report_per_folder.csv\")"
   ]
  },
  {
   "cell_type": "code",
   "execution_count": null,
   "id": "ad895642-7928-4e1b-9103-6a3b5fde1111",
   "metadata": {},
   "outputs": [],
   "source": [
    "# Create the folder where all the outputs will be collected \n",
    "output_folder_path = global_path / 'Outputs'\n",
    "output_folder_path.mkdir(exist_ok=True)\n",
    "\n",
    "outputimage_folder_path = global_path / 'Output_images'\n",
    "outputimage_folder_path.mkdir(exist_ok=True)\n",
    "\n",
    "\n",
    "print(\"Saving master table...\")\n",
    "# Save the master DataFrame as a CSV file\n",
    "result_per_folder.to_csv(output_folder_path / \"result_per_folder.csv\")\n",
    "\n",
    "print(\"Saving table of reports...\")\n",
    "# Save the full table of stat reports per each image in the tree folders\n",
    "report_per_folder.to_csv(output_folder_path / \"report_per_folder.csv\")\n",
    "\n",
    "print(\"Processing complete!\")"
   ]
  },
  {
   "cell_type": "code",
   "execution_count": 25,
   "id": "82a5b9da-ec75-4f83-93c5-a3af2b5971c5",
   "metadata": {
    "tags": []
   },
   "outputs": [],
   "source": [
    "import pandas as pd\n",
    "import natsort\n",
    "from pathlib import Path\n",
    "from FLIM_functions import analyze_single_fitted_channel, generate_small_report_fig, analyze_single_fastflim_channel\n",
    "from skimage.io import imsave\n",
    "\n",
    "def in_folder_loop(global_path, selected_analysis_function, save_images=False, output_folder_path=None, date=None):\n",
    "    result_per_folder = pd.DataFrame([])\n",
    "    report_per_folder = pd.DataFrame([])\n",
    "\n",
    "    # Here we build a paired_path nested list\n",
    "    paired_path_list = []\n",
    "    paired_paths = []\n",
    "\n",
    "    # Create paired paths\n",
    "    for file_path in natsort.natsorted(global_path.iterdir()):\n",
    "        if file_path.suffix == '.tif': \n",
    "            paired_paths.append(file_path) \n",
    "            if len(paired_paths) == 2:\n",
    "                paired_path_list.append(paired_paths)\n",
    "                paired_paths = []\n",
    "\n",
    "    # Process each pair of files in the current folder\n",
    "    for paired_path in paired_path_list:\n",
    "        result_per_image, report_per_image, multichannel_image = selected_analysis_function(paired_path[1], paired_path[0])\n",
    "\n",
    "        # Add identification to the result table (image level)\n",
    "        result_per_image['File Name'] = paired_path[1].stem\n",
    "        report_per_image['File Name'] = paired_path[1].stem\n",
    "\n",
    "        # Concatenate the filtered results to the local table\n",
    "        result_per_folder = pd.concat([result_per_folder, result_per_image])\n",
    "        report_per_folder = pd.concat([report_per_folder, report_per_image]) \n",
    "\n",
    "        # Start creating report images if save_images is True\n",
    "        if save_images:\n",
    "            if output_folder_path is None or date is None:\n",
    "                raise ValueError(\"output_folder_path and date must be provided if save_images is True\")\n",
    "\n",
    "            # Construct the desired identification string for images\n",
    "            identification = f\"{date}_{paired_path[1].parent.name}_{paired_path[1].stem}\"\n",
    "\n",
    "            # Construct report images and save them\n",
    "            small_report_fig = generate_small_report_fig(multichannel_image, identification, output_folder_path)\n",
    "\n",
    "            # Save output images. Only 1 channel from param image (last channel)\n",
    "            image_name = 'param_map_' + paired_path[1].stem + '.tif'\n",
    "            imsave(output_folder_path / image_name, multichannel_image[..., -1])\n",
    "\n",
    "    return result_per_folder, report_per_folder\n"
   ]
  },
  {
   "cell_type": "code",
   "execution_count": null,
   "id": "746ea8d6-20ad-4a38-8689-397af26ea36f",
   "metadata": {},
   "outputs": [],
   "source": [
    "# Example of calling the function with saving images\n",
    "result, report = in_folder_loop(global_path, selected_analysis_function, save_images=True, output_folder_path=Path(\"/path/to/output\"), date=\"2023-06-17\")\n",
    "\n",
    "# Example of calling the function without saving images\n",
    "result, report = in_folder_loop(global_path, selected_analysis_function)\n"
   ]
  }
 ],
 "metadata": {
  "kernelspec": {
   "display_name": "Python 3 (ipykernel)",
   "language": "python",
   "name": "python3"
  },
  "language_info": {
   "codemirror_mode": {
    "name": "ipython",
    "version": 3
   },
   "file_extension": ".py",
   "mimetype": "text/x-python",
   "name": "python",
   "nbconvert_exporter": "python",
   "pygments_lexer": "ipython3",
   "version": "3.9.18"
  }
 },
 "nbformat": 4,
 "nbformat_minor": 5
}
