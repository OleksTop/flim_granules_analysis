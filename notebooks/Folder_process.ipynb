{
 "cells": [
  {
   "cell_type": "markdown",
   "id": "5358248b-ce83-4b4b-b76f-023c7af71c28",
   "metadata": {},
   "source": [
    "## Anlyze paired images in the folder \n",
    "\n",
    "The function processes pairs of `.tif`  images from a specified folder using a provided analysis function. Each pair inside the folder consists of two consecutive images.\n",
    "The second image in each pair contains intensity fluorescence data, and the first image contains fitted data including mean lifetimes and chi-square values. \n",
    "Important is to ensure that images are named accordingly and are arranged consecutively.\n",
    "The `in_folder_loop` function generates results and reports for each pair of images and can optionally save the generated images.\n",
    "\n",
    "\n",
    "### Operational Modes\n",
    "\n",
    "The function has two modes of operation:\n",
    "1. **Tabular Data Only**: Generates only tabular data, which is suitable for analysis.\n",
    "2. **Tabular Data and Images**: Generates both tabular data and images, providing a visual representation of the results."
   ]
  },
  {
   "cell_type": "markdown",
   "id": "3a53ca33",
   "metadata": {},
   "source": [
    "## Add package to python path and import function (s)"
   ]
  },
  {
   "cell_type": "code",
   "execution_count": 1,
   "id": "d51ee0cd",
   "metadata": {},
   "outputs": [],
   "source": [
    "import sys\n",
    "import os\n",
    "\n",
    "# Manually set the parent directory path\n",
    "notebook_dir = os.getcwd()  # This gets the current working directory of the notebook\n",
    "parent_dir = os.path.abspath(os.path.join(notebook_dir, '..'))\n",
    "\n",
    "# Add the parent directory to the system path\n",
    "sys.path.insert(0, parent_dir)\n",
    "\n",
    "#import an example function from package \n",
    "from flim_processing import analyze_single_fitted_channel,in_folder_loop"
   ]
  },
  {
   "cell_type": "markdown",
   "id": "3b743aa2-4b45-4310-a3f7-5890770f1f8b",
   "metadata": {},
   "source": [
    "## Provide the path to the folder with paired images "
   ]
  },
  {
   "cell_type": "code",
   "execution_count": 2,
   "id": "112d3bc2-7f84-4ac8-baf9-d4981f99883a",
   "metadata": {},
   "outputs": [],
   "source": [
    "from pathlib import Path\n",
    "folder_path=Path(r\"G:\\SP8_FLIM\\Treatments\\Aldometanib\\2024-02-02\\wt_Aldo_0\")"
   ]
  },
  {
   "cell_type": "markdown",
   "id": "6b7e88e6-3cea-4893-8377-0d71eaaae46f",
   "metadata": {
    "tags": []
   },
   "source": [
    "## Analyze files inside the folder with tabular output"
   ]
  },
  {
   "cell_type": "code",
   "execution_count": 3,
   "id": "a7dce52b-77e5-4012-b1da-4751d3fdb73b",
   "metadata": {
    "tags": []
   },
   "outputs": [
    {
     "data": {
      "text/html": [
       "<div>\n",
       "<style scoped>\n",
       "    .dataframe tbody tr th:only-of-type {\n",
       "        vertical-align: middle;\n",
       "    }\n",
       "\n",
       "    .dataframe tbody tr th {\n",
       "        vertical-align: top;\n",
       "    }\n",
       "\n",
       "    .dataframe thead th {\n",
       "        text-align: right;\n",
       "    }\n",
       "</style>\n",
       "<table border=\"1\" class=\"dataframe\">\n",
       "  <thead>\n",
       "    <tr style=\"text-align: right;\">\n",
       "      <th></th>\n",
       "      <th>Mean_fluor_intensity</th>\n",
       "      <th>Mean_tau</th>\n",
       "      <th>Mean_STD</th>\n",
       "      <th>Number_of_objects</th>\n",
       "      <th>Initial_number_of_objects</th>\n",
       "      <th>%_of_object_remained</th>\n",
       "      <th>File Name</th>\n",
       "    </tr>\n",
       "  </thead>\n",
       "  <tbody>\n",
       "    <tr>\n",
       "      <th>0</th>\n",
       "      <td>398.949045</td>\n",
       "      <td>848.605096</td>\n",
       "      <td>NaN</td>\n",
       "      <td>1</td>\n",
       "      <td>63</td>\n",
       "      <td>1.587302</td>\n",
       "      <td>NT-1</td>\n",
       "    </tr>\n",
       "    <tr>\n",
       "      <th>0</th>\n",
       "      <td>531.441966</td>\n",
       "      <td>1009.843915</td>\n",
       "      <td>33.133893</td>\n",
       "      <td>23</td>\n",
       "      <td>35</td>\n",
       "      <td>65.714286</td>\n",
       "      <td>NT-2</td>\n",
       "    </tr>\n",
       "    <tr>\n",
       "      <th>0</th>\n",
       "      <td>310.420765</td>\n",
       "      <td>927.409836</td>\n",
       "      <td>NaN</td>\n",
       "      <td>1</td>\n",
       "      <td>107</td>\n",
       "      <td>0.934579</td>\n",
       "      <td>NT-3</td>\n",
       "    </tr>\n",
       "    <tr>\n",
       "      <th>0</th>\n",
       "      <td>377.193525</td>\n",
       "      <td>908.282458</td>\n",
       "      <td>41.976616</td>\n",
       "      <td>12</td>\n",
       "      <td>45</td>\n",
       "      <td>26.666667</td>\n",
       "      <td>NT-4</td>\n",
       "    </tr>\n",
       "    <tr>\n",
       "      <th>0</th>\n",
       "      <td>331.019869</td>\n",
       "      <td>940.933975</td>\n",
       "      <td>29.139302</td>\n",
       "      <td>5</td>\n",
       "      <td>63</td>\n",
       "      <td>7.936508</td>\n",
       "      <td>NT-5</td>\n",
       "    </tr>\n",
       "  </tbody>\n",
       "</table>\n",
       "</div>"
      ],
      "text/plain": [
       "   Mean_fluor_intensity     Mean_tau   Mean_STD  Number_of_objects  \\\n",
       "0            398.949045   848.605096        NaN                  1   \n",
       "0            531.441966  1009.843915  33.133893                 23   \n",
       "0            310.420765   927.409836        NaN                  1   \n",
       "0            377.193525   908.282458  41.976616                 12   \n",
       "0            331.019869   940.933975  29.139302                  5   \n",
       "\n",
       "   Initial_number_of_objects  %_of_object_remained File Name  \n",
       "0                         63              1.587302      NT-1  \n",
       "0                         35             65.714286      NT-2  \n",
       "0                        107              0.934579      NT-3  \n",
       "0                         45             26.666667      NT-4  \n",
       "0                         63              7.936508      NT-5  "
      ]
     },
     "execution_count": 3,
     "metadata": {},
     "output_type": "execute_result"
    }
   ],
   "source": [
    "# Example of calling the function with saving images\n",
    "result_per_folder,report_per_folder=in_folder_loop(folder_path,selected_analysis_function=analyze_single_fitted_channel)\n",
    "report_per_folder"
   ]
  },
  {
   "cell_type": "markdown",
   "id": "e909df6c-8d19-40b9-a661-6d2971c60db7",
   "metadata": {},
   "source": [
    "## Analyze files inside the folder with both tabular output and images\n",
    "stored in locally created 'Output' folder "
   ]
  },
  {
   "cell_type": "code",
   "execution_count": 7,
   "id": "55aab9c0-10f1-43d8-a77d-afa78caac4bf",
   "metadata": {
    "tags": []
   },
   "outputs": [
    {
     "name": "stderr",
     "output_type": "stream",
     "text": [
      "C:\\Users\\med\\FLIMrepo\\granules-flim-analysis\\notebooks\\Example for functions\\helper_functions.py:83: UserWarning: C:\\Users\\med\\FLIMrepo\\granules-flim-analysis\\notebooks\\Example for functions\\Outputs\\param_map_NT-1.tif is a low contrast image\n",
      "  imsave(output_folder_path / image_name, multichannel_image[..., -1])\n",
      "C:\\Users\\med\\FLIMrepo\\granules-flim-analysis\\notebooks\\Example for functions\\helper_functions.py:83: UserWarning: C:\\Users\\med\\FLIMrepo\\granules-flim-analysis\\notebooks\\Example for functions\\Outputs\\param_map_NT-2.tif is a low contrast image\n",
      "  imsave(output_folder_path / image_name, multichannel_image[..., -1])\n",
      "C:\\Users\\med\\FLIMrepo\\granules-flim-analysis\\notebooks\\Example for functions\\helper_functions.py:83: UserWarning: C:\\Users\\med\\FLIMrepo\\granules-flim-analysis\\notebooks\\Example for functions\\Outputs\\param_map_NT-3.tif is a low contrast image\n",
      "  imsave(output_folder_path / image_name, multichannel_image[..., -1])\n",
      "C:\\Users\\med\\FLIMrepo\\granules-flim-analysis\\notebooks\\Example for functions\\helper_functions.py:83: UserWarning: C:\\Users\\med\\FLIMrepo\\granules-flim-analysis\\notebooks\\Example for functions\\Outputs\\param_map_NT-4.tif is a low contrast image\n",
      "  imsave(output_folder_path / image_name, multichannel_image[..., -1])\n",
      "C:\\Users\\med\\FLIMrepo\\granules-flim-analysis\\notebooks\\Example for functions\\helper_functions.py:83: UserWarning: C:\\Users\\med\\FLIMrepo\\granules-flim-analysis\\notebooks\\Example for functions\\Outputs\\param_map_NT-5.tif is a low contrast image\n",
      "  imsave(output_folder_path / image_name, multichannel_image[..., -1])\n"
     ]
    },
    {
     "data": {
      "text/html": [
       "<div>\n",
       "<style scoped>\n",
       "    .dataframe tbody tr th:only-of-type {\n",
       "        vertical-align: middle;\n",
       "    }\n",
       "\n",
       "    .dataframe tbody tr th {\n",
       "        vertical-align: top;\n",
       "    }\n",
       "\n",
       "    .dataframe thead th {\n",
       "        text-align: right;\n",
       "    }\n",
       "</style>\n",
       "<table border=\"1\" class=\"dataframe\">\n",
       "  <thead>\n",
       "    <tr style=\"text-align: right;\">\n",
       "      <th></th>\n",
       "      <th>Mean_fluor_intensity</th>\n",
       "      <th>Mean_tau</th>\n",
       "      <th>Mean_STD</th>\n",
       "      <th>Number_of_objects</th>\n",
       "      <th>Initial_number_of_objects</th>\n",
       "      <th>%_of_object_remained</th>\n",
       "      <th>File Name</th>\n",
       "    </tr>\n",
       "  </thead>\n",
       "  <tbody>\n",
       "    <tr>\n",
       "      <th>0</th>\n",
       "      <td>398.949045</td>\n",
       "      <td>848.605096</td>\n",
       "      <td>NaN</td>\n",
       "      <td>1</td>\n",
       "      <td>63</td>\n",
       "      <td>1.587302</td>\n",
       "      <td>NT-1</td>\n",
       "    </tr>\n",
       "    <tr>\n",
       "      <th>0</th>\n",
       "      <td>531.441966</td>\n",
       "      <td>1009.843915</td>\n",
       "      <td>33.133893</td>\n",
       "      <td>23</td>\n",
       "      <td>35</td>\n",
       "      <td>65.714286</td>\n",
       "      <td>NT-2</td>\n",
       "    </tr>\n",
       "    <tr>\n",
       "      <th>0</th>\n",
       "      <td>310.420765</td>\n",
       "      <td>927.409836</td>\n",
       "      <td>NaN</td>\n",
       "      <td>1</td>\n",
       "      <td>107</td>\n",
       "      <td>0.934579</td>\n",
       "      <td>NT-3</td>\n",
       "    </tr>\n",
       "    <tr>\n",
       "      <th>0</th>\n",
       "      <td>377.193525</td>\n",
       "      <td>908.282458</td>\n",
       "      <td>41.976616</td>\n",
       "      <td>12</td>\n",
       "      <td>45</td>\n",
       "      <td>26.666667</td>\n",
       "      <td>NT-4</td>\n",
       "    </tr>\n",
       "    <tr>\n",
       "      <th>0</th>\n",
       "      <td>331.019869</td>\n",
       "      <td>940.933975</td>\n",
       "      <td>29.139302</td>\n",
       "      <td>5</td>\n",
       "      <td>63</td>\n",
       "      <td>7.936508</td>\n",
       "      <td>NT-5</td>\n",
       "    </tr>\n",
       "  </tbody>\n",
       "</table>\n",
       "</div>"
      ],
      "text/plain": [
       "   Mean_fluor_intensity     Mean_tau   Mean_STD  Number_of_objects  \\\n",
       "0            398.949045   848.605096        NaN                  1   \n",
       "0            531.441966  1009.843915  33.133893                 23   \n",
       "0            310.420765   927.409836        NaN                  1   \n",
       "0            377.193525   908.282458  41.976616                 12   \n",
       "0            331.019869   940.933975  29.139302                  5   \n",
       "\n",
       "   Initial_number_of_objects  %_of_object_remained File Name  \n",
       "0                         63              1.587302      NT-1  \n",
       "0                         35             65.714286      NT-2  \n",
       "0                        107              0.934579      NT-3  \n",
       "0                         45             26.666667      NT-4  \n",
       "0                         63              7.936508      NT-5  "
      ]
     },
     "execution_count": 7,
     "metadata": {},
     "output_type": "execute_result"
    }
   ],
   "source": [
    "# Create an output folder to store all the images \n",
    "output_folder_path = Path('Outputs')\n",
    "output_folder_path.mkdir(exist_ok=True)\n",
    "selected_analysis_function=analyze_single_fitted_channel\n",
    "\n",
    "# Set the date variable(which will be the name of images, used for identification)\n",
    "date = \"Random_date_that_is_a_variable\"\n",
    "\n",
    "# Example of calling the function with saving images\n",
    "result, report = in_folder_loop(folder_path, selected_analysis_function,\n",
    "                                save_images=True, output_folder_path=output_folder_path, date=date)\n",
    "\n",
    "report"
   ]
  },
  {
   "cell_type": "code",
   "execution_count": null,
   "id": "ae85fde5-0f37-4b7c-a8a2-9ab2a34f27b3",
   "metadata": {},
   "outputs": [],
   "source": [
    "#example of saving the files with reports locally \n",
    "result_per_folder.to_csv(\"result_per_folder.csv\")\n",
    "report_per_folder.to_csv(\"report_per_folder.csv\")"
   ]
  }
 ],
 "metadata": {
  "kernelspec": {
   "display_name": "Python 3 (ipykernel)",
   "language": "python",
   "name": "python3"
  },
  "language_info": {
   "codemirror_mode": {
    "name": "ipython",
    "version": 3
   },
   "file_extension": ".py",
   "mimetype": "text/x-python",
   "name": "python",
   "nbconvert_exporter": "python",
   "pygments_lexer": "ipython3",
   "version": "3.9.18"
  }
 },
 "nbformat": 4,
 "nbformat_minor": 5
}
