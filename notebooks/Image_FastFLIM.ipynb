{
 "cells": [
  {
   "cell_type": "markdown",
   "id": "8f566ae7",
   "metadata": {},
   "source": [
    "## Add package to python path and import function (s)"
   ]
  },
  {
   "cell_type": "code",
   "execution_count": 1,
   "id": "9c5adb96",
   "metadata": {},
   "outputs": [],
   "source": [
    "import sys\n",
    "import os\n",
    "\n",
    "# Manually set the parent directory path\n",
    "notebook_dir = os.getcwd()  # This gets the current working directory of the notebook\n",
    "parent_dir = os.path.abspath(os.path.join(notebook_dir, '..'))\n",
    "\n",
    "# Add the parent directory to the system path\n",
    "sys.path.insert(0, parent_dir)\n",
    "\n",
    "#import an example function from package \n",
    "from flim_processing import generate_small_report_fig,analyze_single_fastflim_channel"
   ]
  },
  {
   "cell_type": "markdown",
   "id": "e64094d2-0361-4a05-aa12-5588997ec264",
   "metadata": {},
   "source": [
    "## Upload the image from path containing fast flim data and fluorescence intensity as separate chanels"
   ]
  },
  {
   "cell_type": "code",
   "execution_count": 2,
   "id": "e4095ba4-58a9-4e8b-98dc-12bd49d4a1bf",
   "metadata": {},
   "outputs": [],
   "source": [
    "from pathlib import Path\n",
    "data_image = Path(r\"G:\\SP8_FLIM\\0_Workflow_OPTIM\\5HT\\2023-02-07\\5HT_0\\cl1_VMAT_5HT_0\\cl1-1.tif\")"
   ]
  },
  {
   "cell_type": "markdown",
   "id": "e4f86904-8f8b-48f5-a60f-2a39b78dbd9f",
   "metadata": {},
   "source": [
    "## Evaluate mean lifetimes from segmented objects (granules)\n",
    "generate the table, that provides all the results for each indivial object. It also creates report table with a summary per image and analized image, containing result of the segmantation"
   ]
  },
  {
   "cell_type": "code",
   "execution_count": 3,
   "id": "6cdee423-ad35-4085-ae47-7c66bf970359",
   "metadata": {
    "tags": []
   },
   "outputs": [
    {
     "data": {
      "text/html": [
       "<div>\n",
       "<style scoped>\n",
       "    .dataframe tbody tr th:only-of-type {\n",
       "        vertical-align: middle;\n",
       "    }\n",
       "\n",
       "    .dataframe tbody tr th {\n",
       "        vertical-align: top;\n",
       "    }\n",
       "\n",
       "    .dataframe thead th {\n",
       "        text-align: right;\n",
       "    }\n",
       "</style>\n",
       "<table border=\"1\" class=\"dataframe\">\n",
       "  <thead>\n",
       "    <tr style=\"text-align: right;\">\n",
       "      <th></th>\n",
       "      <th>Label</th>\n",
       "      <th>Area</th>\n",
       "      <th>intensity_mean_fluor</th>\n",
       "      <th>mean_tau</th>\n",
       "      <th>min_fluor</th>\n",
       "      <th>min_tau</th>\n",
       "      <th>STD_fluor</th>\n",
       "      <th>STD_tau</th>\n",
       "    </tr>\n",
       "  </thead>\n",
       "  <tbody>\n",
       "    <tr>\n",
       "      <th>19</th>\n",
       "      <td>20</td>\n",
       "      <td>360.0</td>\n",
       "      <td>403.288889</td>\n",
       "      <td>1757.297222</td>\n",
       "      <td>209.0</td>\n",
       "      <td>1413.0</td>\n",
       "      <td>60.955538</td>\n",
       "      <td>143.967813</td>\n",
       "    </tr>\n",
       "    <tr>\n",
       "      <th>22</th>\n",
       "      <td>23</td>\n",
       "      <td>71.0</td>\n",
       "      <td>302.591549</td>\n",
       "      <td>1789.253521</td>\n",
       "      <td>273.0</td>\n",
       "      <td>1464.0</td>\n",
       "      <td>23.161757</td>\n",
       "      <td>152.915950</td>\n",
       "    </tr>\n",
       "    <tr>\n",
       "      <th>29</th>\n",
       "      <td>30</td>\n",
       "      <td>107.0</td>\n",
       "      <td>397.775701</td>\n",
       "      <td>1821.392523</td>\n",
       "      <td>367.0</td>\n",
       "      <td>1485.0</td>\n",
       "      <td>12.278930</td>\n",
       "      <td>154.082315</td>\n",
       "    </tr>\n",
       "    <tr>\n",
       "      <th>31</th>\n",
       "      <td>32</td>\n",
       "      <td>143.0</td>\n",
       "      <td>379.986014</td>\n",
       "      <td>1822.860140</td>\n",
       "      <td>329.0</td>\n",
       "      <td>1489.0</td>\n",
       "      <td>16.771599</td>\n",
       "      <td>140.777144</td>\n",
       "    </tr>\n",
       "    <tr>\n",
       "      <th>34</th>\n",
       "      <td>35</td>\n",
       "      <td>55.0</td>\n",
       "      <td>305.436364</td>\n",
       "      <td>1913.636364</td>\n",
       "      <td>266.0</td>\n",
       "      <td>1425.0</td>\n",
       "      <td>15.346618</td>\n",
       "      <td>168.146080</td>\n",
       "    </tr>\n",
       "    <tr>\n",
       "      <th>35</th>\n",
       "      <td>36</td>\n",
       "      <td>109.0</td>\n",
       "      <td>325.871560</td>\n",
       "      <td>1838.770642</td>\n",
       "      <td>263.0</td>\n",
       "      <td>1429.0</td>\n",
       "      <td>19.773071</td>\n",
       "      <td>149.730868</td>\n",
       "    </tr>\n",
       "    <tr>\n",
       "      <th>43</th>\n",
       "      <td>44</td>\n",
       "      <td>131.0</td>\n",
       "      <td>357.977099</td>\n",
       "      <td>1809.335878</td>\n",
       "      <td>260.0</td>\n",
       "      <td>1413.0</td>\n",
       "      <td>28.325390</td>\n",
       "      <td>144.524417</td>\n",
       "    </tr>\n",
       "    <tr>\n",
       "      <th>46</th>\n",
       "      <td>47</td>\n",
       "      <td>50.0</td>\n",
       "      <td>300.720000</td>\n",
       "      <td>1836.720000</td>\n",
       "      <td>114.0</td>\n",
       "      <td>1284.0</td>\n",
       "      <td>52.215339</td>\n",
       "      <td>178.561815</td>\n",
       "    </tr>\n",
       "    <tr>\n",
       "      <th>50</th>\n",
       "      <td>51</td>\n",
       "      <td>212.0</td>\n",
       "      <td>312.613208</td>\n",
       "      <td>1878.551887</td>\n",
       "      <td>232.0</td>\n",
       "      <td>1489.0</td>\n",
       "      <td>33.133398</td>\n",
       "      <td>158.998523</td>\n",
       "    </tr>\n",
       "    <tr>\n",
       "      <th>60</th>\n",
       "      <td>61</td>\n",
       "      <td>158.0</td>\n",
       "      <td>315.360759</td>\n",
       "      <td>1840.063291</td>\n",
       "      <td>222.0</td>\n",
       "      <td>1544.0</td>\n",
       "      <td>21.503081</td>\n",
       "      <td>150.180047</td>\n",
       "    </tr>\n",
       "  </tbody>\n",
       "</table>\n",
       "</div>"
      ],
      "text/plain": [
       "    Label   Area  intensity_mean_fluor     mean_tau  min_fluor  min_tau  \\\n",
       "19     20  360.0            403.288889  1757.297222      209.0   1413.0   \n",
       "22     23   71.0            302.591549  1789.253521      273.0   1464.0   \n",
       "29     30  107.0            397.775701  1821.392523      367.0   1485.0   \n",
       "31     32  143.0            379.986014  1822.860140      329.0   1489.0   \n",
       "34     35   55.0            305.436364  1913.636364      266.0   1425.0   \n",
       "35     36  109.0            325.871560  1838.770642      263.0   1429.0   \n",
       "43     44  131.0            357.977099  1809.335878      260.0   1413.0   \n",
       "46     47   50.0            300.720000  1836.720000      114.0   1284.0   \n",
       "50     51  212.0            312.613208  1878.551887      232.0   1489.0   \n",
       "60     61  158.0            315.360759  1840.063291      222.0   1544.0   \n",
       "\n",
       "    STD_fluor     STD_tau  \n",
       "19  60.955538  143.967813  \n",
       "22  23.161757  152.915950  \n",
       "29  12.278930  154.082315  \n",
       "31  16.771599  140.777144  \n",
       "34  15.346618  168.146080  \n",
       "35  19.773071  149.730868  \n",
       "43  28.325390  144.524417  \n",
       "46  52.215339  178.561815  \n",
       "50  33.133398  158.998523  \n",
       "60  21.503081  150.180047  "
      ]
     },
     "execution_count": 3,
     "metadata": {},
     "output_type": "execute_result"
    }
   ],
   "source": [
    "result_table,report_table,report_multichannel_image = analyze_single_fastflim_channel(data_image)\n",
    "result_table"
   ]
  },
  {
   "cell_type": "markdown",
   "id": "4ec944f2-98d9-4aee-b7b2-fa7d789f25bf",
   "metadata": {},
   "source": [
    "##  Generate report images to evaluate analisys \n",
    "Use a function from module which generates and saves images displaing the input and result from analisys "
   ]
  },
  {
   "cell_type": "code",
   "execution_count": 4,
   "id": "53796e5b-b998-4635-b261-6c2d953fdd81",
   "metadata": {
    "tags": []
   },
   "outputs": [],
   "source": [
    "name='random_image_name'\n",
    "generate_small_report_fig(report_multichannel_image,name)"
   ]
  },
  {
   "cell_type": "code",
   "execution_count": 6,
   "id": "bb2306d0-e075-4edb-87b6-413e319ff5cd",
   "metadata": {
    "tags": []
   },
   "outputs": [
    {
     "name": "stderr",
     "output_type": "stream",
     "text": [
      "C:\\Users\\med\\mambaforge\\envs\\napari-flim-phasor-env\\lib\\site-packages\\skimage\\io\\_plugins\\matplotlib_plugin.py:149: UserWarning: Low image data range; displaying image with stretched contrast.\n",
      "  lo, hi, cmap = _get_display_range(image)\n",
      "C:\\Users\\med\\mambaforge\\envs\\napari-flim-phasor-env\\lib\\site-packages\\skimage\\io\\_plugins\\matplotlib_plugin.py:149: UserWarning: Float image out of standard range; displaying image with stretched contrast.\n",
      "  lo, hi, cmap = _get_display_range(image)\n"
     ]
    },
    {
     "data": {
      "text/plain": [
       "<matplotlib.image.AxesImage at 0x1e827479460>"
      ]
     },
     "execution_count": 6,
     "metadata": {},
     "output_type": "execute_result"
    },
    {
     "data": {
      "image/png": "[encoded data removed]",
      "text/plain": [
       "<Figure size 640x480 with 2 Axes>"
      ]
     },
     "metadata": {},
     "output_type": "display_data"
    }
   ],
   "source": [
    "#saving of the output images (th last chanel from the multistack- the rest comes from raw file)\n",
    "from skimage.io import imsave\n",
    "from skimage.io import imshow\n",
    "\n",
    "image_name='param_map_' +data_image.stem+'.tif'\n",
    "\n",
    "# Save the images\n",
    "output_image_dir = Path('output_images')\n",
    "output_image_dir.mkdir(exist_ok=True)\n",
    "\n",
    "imshow(report_multichannel_image[...,-1])\n",
    "#imsave(output_image_dir / image_name, report_multichannel_image[...,-1])"
   ]
  },
  {
   "cell_type": "code",
   "execution_count": null,
   "id": "20f75fbf-5b27-4516-9ad3-cc468985e994",
   "metadata": {},
   "outputs": [],
   "source": []
  }
 ],
 "metadata": {
  "kernelspec": {
   "display_name": "Python 3 (ipykernel)",
   "language": "python",
   "name": "python3"
  },
  "language_info": {
   "codemirror_mode": {
    "name": "ipython",
    "version": 3
   },
   "file_extension": ".py",
   "mimetype": "text/x-python",
   "name": "python",
   "nbconvert_exporter": "python",
   "pygments_lexer": "ipython3",
   "version": "3.9.18"
  }
 },
 "nbformat": 4,
 "nbformat_minor": 5
}
